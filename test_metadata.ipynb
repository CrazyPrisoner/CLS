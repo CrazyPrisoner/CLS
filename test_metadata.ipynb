{
 "cells": [
  {
   "cell_type": "code",
   "execution_count": 1,
   "metadata": {},
   "outputs": [],
   "source": [
    "from grpc.beta import implementations\n",
    "import tensorflow as tf\n",
    "import numpy\n",
    "import pandas\n",
    "from data_processing import test_data_with_label\n",
    "\n",
    "from tensorflow.core.framework import types_pb2\n",
    "from tensorflow.python.platform import flags\n",
    "from tensorflow_serving.apis import predict_pb2\n",
    "from tensorflow_serving.apis import prediction_service_pb2"
   ]
  },
  {
   "cell_type": "code",
   "execution_count": 2,
   "metadata": {},
   "outputs": [],
   "source": [
    "HOST = \"localhost\"\n",
    "PORT = 666\n",
    "MNAME = \"model\"\n",
    "MSIGNNAME = \"predict\""
   ]
  },
  {
   "cell_type": "code",
   "execution_count": 3,
   "metadata": {},
   "outputs": [
    {
     "name": "stderr",
     "output_type": "stream",
     "text": [
      "100%|██████████| 7/7 [00:00<00:00, 114.05it/s]\n"
     ]
    }
   ],
   "source": [
    "# Getting test data from script\n",
    "testing_images = test_data_with_label()\n",
    "tst_img_data = numpy.array([i[0] for i in testing_images])\n",
    "tst_lbl_data = numpy.array([i[1] for i in testing_images])"
   ]
  },
  {
   "cell_type": "code",
   "execution_count": 5,
   "metadata": {},
   "outputs": [
    {
     "name": "stdout",
     "output_type": "stream",
     "text": [
      "[[ 11.   5.  28. ... 203. 188. 167.]\n",
      " [177.  81.  60. ... 190. 166.  32.]\n",
      " [  0.   0.   0. ...  63. 102.  41.]\n",
      " ...\n",
      " [  0.   0.   0. ... 173. 127.  90.]\n",
      " [  8.   6.   8. ... 194. 187. 184.]\n",
      " [  4.   3.   4. ...   4.   2.  42.]]\n",
      "5488\n"
     ]
    }
   ],
   "source": [
    "print(tst_img_data)\n",
    "print(tst_img_data.size)"
   ]
  },
  {
   "cell_type": "code",
   "execution_count": 7,
   "metadata": {},
   "outputs": [],
   "source": [
    "# Prepare request\n",
    "request = predict_pb2.PredictRequest()\n",
    "request.model_spec.signature_name = MSIGNNAME\n",
    "request.model_spec.name = MNAME\n",
    "request.inputs['input'].dtype = types_pb2.DT_INT32\n",
    "request.inputs['input'].CopyFrom(\n",
    "    tf.contrib.util.make_tensor_proto(tst_img_data[-1].astype(dtype=numpy.float32).reshape(1, tst_img_data.shape[1])))\n",
    "request.inputs['prob'].CopyFrom(tf.contrib.util.make_tensor_proto(0.8))\n",
    "request.output_filter.append('output')"
   ]
  },
  {
   "cell_type": "code",
   "execution_count": 8,
   "metadata": {},
   "outputs": [],
   "source": [
    "# Send request\n",
    "channel = implementations.insecure_channel(HOST, int(PORT))\n",
    "stub = prediction_service_pb2.beta_create_PredictionService_stub(channel)\n",
    "prediction = stub.Predict(request, 5.0)  # 5 secs timeout\n",
    "floats = prediction.outputs['output'].float_val\n",
    "pred_arr = numpy.array(floats)"
   ]
  },
  {
   "cell_type": "code",
   "execution_count": 9,
   "metadata": {},
   "outputs": [
    {
     "name": "stdout",
     "output_type": "stream",
     "text": [
      "[0.32924139 0.22470589 0.44605276]\n"
     ]
    }
   ],
   "source": [
    "print(pred_arr)"
   ]
  },
  {
   "cell_type": "code",
   "execution_count": null,
   "metadata": {},
   "outputs": [],
   "source": []
  },
  {
   "cell_type": "code",
   "execution_count": null,
   "metadata": {},
   "outputs": [],
   "source": []
  },
  {
   "cell_type": "code",
   "execution_count": null,
   "metadata": {},
   "outputs": [],
   "source": []
  },
  {
   "cell_type": "code",
   "execution_count": null,
   "metadata": {},
   "outputs": [],
   "source": []
  }
 ],
 "metadata": {
  "kernelspec": {
   "display_name": "Python 3",
   "language": "python",
   "name": "python3"
  },
  "language_info": {
   "codemirror_mode": {
    "name": "ipython",
    "version": 3
   },
   "file_extension": ".py",
   "mimetype": "text/x-python",
   "name": "python",
   "nbconvert_exporter": "python",
   "pygments_lexer": "ipython3",
   "version": "3.7.9"
  }
 },
 "nbformat": 4,
 "nbformat_minor": 4
}
